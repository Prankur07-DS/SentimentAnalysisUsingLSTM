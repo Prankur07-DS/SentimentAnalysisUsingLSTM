{
  "nbformat": 4,
  "nbformat_minor": 0,
  "metadata": {
    "colab": {
      "name": "SentimentAnalysisUsingLSTM.ipynb",
      "provenance": [],
      "collapsed_sections": []
    },
    "kernelspec": {
      "display_name": "Python 3",
      "language": "python",
      "name": "python3"
    },
    "language_info": {
      "codemirror_mode": {
        "name": "ipython",
        "version": 3
      },
      "file_extension": ".py",
      "mimetype": "text/x-python",
      "name": "python",
      "nbconvert_exporter": "python",
      "pygments_lexer": "ipython3",
      "version": "3.6.9"
    }
  },
  "cells": [
    {
      "cell_type": "markdown",
      "metadata": {
        "id": "eSTTxFf8CoFt",
        "colab_type": "text"
      },
      "source": [
        "# Sentiment Analysis"
      ]
    },
    {
      "cell_type": "markdown",
      "metadata": {
        "id": "BOdQepsHCoFv",
        "colab_type": "text"
      },
      "source": [
        "### Objective: Build a deep learning model using bert embedding(Text classification). \n",
        "\n",
        "#### Attribute Explanation:\n",
        "\n",
        "Original Text: Original text of the chat <br>\n",
        "Relevant Text: Key sentence of the original text <br>\n",
        "Recitified_Score_2:ignore <br>\n",
        "Entity_name: sentence belong to which entity <br>\n",
        "DM_Score:4 classes(1-negative,2-neutral,3-positive,4-extreme positive) <br>\n",
        "Neutral_Non_Neutral-Neutral or non-neutral <br>"
      ]
    },
    {
      "cell_type": "markdown",
      "metadata": {
        "id": "xk8z3xwjCoFy",
        "colab_type": "text"
      },
      "source": [
        "### 1. Data Loading"
      ]
    },
    {
      "cell_type": "code",
      "metadata": {
        "id": "fLhID5brCoF1",
        "colab_type": "code",
        "colab": {
          "base_uri": "https://localhost:8080/",
          "height": 84
        },
        "outputId": "11037117-3fdb-459d-ad81-1734db58601f"
      },
      "source": [
        "# downloading nltk stopwords\n",
        "import nltk\n",
        "nltk.download('stopwords')\n",
        "# importing the relevant libraries\n",
        "import time\n",
        "\n",
        "starting_time=time.time()\n",
        "import nltk\n",
        "nltk.download('stopwords')\n",
        "import numpy as np \n",
        "import pandas as pd\n",
        "import matplotlib.pyplot as plt\n",
        "import seaborn as sns\n",
        "from sklearn.metrics import confusion_matrix, classification_report, f1_score\n",
        "from keras.preprocessing.text import Tokenizer\n",
        "from keras.preprocessing.sequence import pad_sequences\n",
        "from keras.models import Sequential\n",
        "from keras.layers import Dense, Embedding, LSTM, SpatialDropout1D\n",
        "from sklearn.model_selection import train_test_split\n",
        "from keras.utils.np_utils import to_categorical\n",
        "from keras.callbacks import EarlyStopping\n",
        "from keras.layers import Dropout\n",
        "import re\n",
        "from nltk.corpus import stopwords\n",
        "from nltk import word_tokenize\n",
        "stop_words = stopwords.words('english')\n",
        "stop_words.extend(['hi', 'Hi', 'Hello', 'hello', 'Howdy', 'howdy'])"
      ],
      "execution_count": 61,
      "outputs": [
        {
          "output_type": "stream",
          "text": [
            "[nltk_data] Downloading package stopwords to /root/nltk_data...\n",
            "[nltk_data]   Package stopwords is already up-to-date!\n",
            "[nltk_data] Downloading package stopwords to /root/nltk_data...\n",
            "[nltk_data]   Package stopwords is already up-to-date!\n"
          ],
          "name": "stdout"
        }
      ]
    },
    {
      "cell_type": "code",
      "metadata": {
        "id": "sAuHncUcCoF4",
        "colab_type": "code",
        "colab": {}
      },
      "source": [
        "## Loading the data into python\n",
        "raw_data = pd.read_excel(\"Neutral_Non_Neutral_Training.xlsx\")"
      ],
      "execution_count": 62,
      "outputs": []
    },
    {
      "cell_type": "markdown",
      "metadata": {
        "id": "0FP44YARCoF7",
        "colab_type": "text"
      },
      "source": [
        "### 2. Exploratory Data Analysis"
      ]
    },
    {
      "cell_type": "code",
      "metadata": {
        "id": "Ihg3CbnQCoF8",
        "colab_type": "code",
        "colab": {
          "base_uri": "https://localhost:8080/",
          "height": 252
        },
        "outputId": "52bead4f-91f1-4e5f-c9ac-b633045241f0"
      },
      "source": [
        "## Information of the data\n",
        "raw_data.info()"
      ],
      "execution_count": 63,
      "outputs": [
        {
          "output_type": "stream",
          "text": [
            "<class 'pandas.core.frame.DataFrame'>\n",
            "RangeIndex: 7491 entries, 0 to 7490\n",
            "Data columns (total 7 columns):\n",
            " #   Column               Non-Null Count  Dtype \n",
            "---  ------               --------------  ----- \n",
            " 0   Filename             7491 non-null   object\n",
            " 1   Original Text        7491 non-null   object\n",
            " 2   Relevant_Text        7491 non-null   object\n",
            " 3   Recitified_Score_2   7491 non-null   int64 \n",
            " 4   Entity_name          7491 non-null   object\n",
            " 5   DM_Score             7491 non-null   int64 \n",
            " 6   Neutral_Non_Neutral  7491 non-null   int64 \n",
            "dtypes: int64(3), object(4)\n",
            "memory usage: 409.8+ KB\n"
          ],
          "name": "stdout"
        }
      ]
    },
    {
      "cell_type": "markdown",
      "metadata": {
        "id": "SnwD6452CoGC",
        "colab_type": "text"
      },
      "source": [
        "There are total 7491 observations and 7 features in this data set. There are 4 columns of object(string) data type and 3 of them of integer. <br> \n",
        "As, we can see no null or missing values in this data set.\n",
        "\n"
      ]
    },
    {
      "cell_type": "code",
      "metadata": {
        "id": "RFQolr3gCoGE",
        "colab_type": "code",
        "colab": {
          "base_uri": "https://localhost:8080/",
          "height": 195
        },
        "outputId": "a233f88f-3c3c-44a5-cdfb-8598d79cdf9e"
      },
      "source": [
        "# displaying first few records\n",
        "raw_data.head()"
      ],
      "execution_count": 64,
      "outputs": [
        {
          "output_type": "execute_result",
          "data": {
            "text/html": [
              "<div>\n",
              "<style scoped>\n",
              "    .dataframe tbody tr th:only-of-type {\n",
              "        vertical-align: middle;\n",
              "    }\n",
              "\n",
              "    .dataframe tbody tr th {\n",
              "        vertical-align: top;\n",
              "    }\n",
              "\n",
              "    .dataframe thead th {\n",
              "        text-align: right;\n",
              "    }\n",
              "</style>\n",
              "<table border=\"1\" class=\"dataframe\">\n",
              "  <thead>\n",
              "    <tr style=\"text-align: right;\">\n",
              "      <th></th>\n",
              "      <th>Filename</th>\n",
              "      <th>Original Text</th>\n",
              "      <th>Relevant_Text</th>\n",
              "      <th>Recitified_Score_2</th>\n",
              "      <th>Entity_name</th>\n",
              "      <th>DM_Score</th>\n",
              "      <th>Neutral_Non_Neutral</th>\n",
              "    </tr>\n",
              "  </thead>\n",
              "  <tbody>\n",
              "    <tr>\n",
              "      <th>0</th>\n",
              "      <td>Final_Prediction_Entity_Extraction_8001.csv</td>\n",
              "      <td>In that case, I will recommend you sign a long...</td>\n",
              "      <td>sign a long term lease</td>\n",
              "      <td>4</td>\n",
              "      <td>renewed</td>\n",
              "      <td>4</td>\n",
              "      <td>1</td>\n",
              "    </tr>\n",
              "    <tr>\n",
              "      <th>1</th>\n",
              "      <td>Final_Prediction_Entity_Extraction_8501.csv</td>\n",
              "      <td>So personally I love the apartment the buildin...</td>\n",
              "      <td>all the office people</td>\n",
              "      <td>2</td>\n",
              "      <td>management</td>\n",
              "      <td>2</td>\n",
              "      <td>2</td>\n",
              "    </tr>\n",
              "    <tr>\n",
              "      <th>2</th>\n",
              "      <td>Final_Prediction_Entity_Extraction_1751.csv</td>\n",
              "      <td>And yes I’m in the B2 floor plan</td>\n",
              "      <td>I’m in the B2 floor plan</td>\n",
              "      <td>2</td>\n",
              "      <td>unit_features</td>\n",
              "      <td>2</td>\n",
              "      <td>2</td>\n",
              "    </tr>\n",
              "    <tr>\n",
              "      <th>3</th>\n",
              "      <td>Final_Prediction_Entity_Extraction_1251.csv</td>\n",
              "      <td>I love living in this community.</td>\n",
              "      <td>I love living in this community</td>\n",
              "      <td>4</td>\n",
              "      <td>community</td>\n",
              "      <td>4</td>\n",
              "      <td>1</td>\n",
              "    </tr>\n",
              "    <tr>\n",
              "      <th>4</th>\n",
              "      <td>Final_Prediction_Entity_Extraction_8251.csv</td>\n",
              "      <td>I would say they are comparable to gyms at hig...</td>\n",
              "      <td>I would say they are comparable to gyms</td>\n",
              "      <td>3</td>\n",
              "      <td>fitness_center</td>\n",
              "      <td>3</td>\n",
              "      <td>1</td>\n",
              "    </tr>\n",
              "  </tbody>\n",
              "</table>\n",
              "</div>"
            ],
            "text/plain": [
              "                                      Filename  ... Neutral_Non_Neutral\n",
              "0  Final_Prediction_Entity_Extraction_8001.csv  ...                   1\n",
              "1  Final_Prediction_Entity_Extraction_8501.csv  ...                   2\n",
              "2  Final_Prediction_Entity_Extraction_1751.csv  ...                   2\n",
              "3  Final_Prediction_Entity_Extraction_1251.csv  ...                   1\n",
              "4  Final_Prediction_Entity_Extraction_8251.csv  ...                   1\n",
              "\n",
              "[5 rows x 7 columns]"
            ]
          },
          "metadata": {
            "tags": []
          },
          "execution_count": 64
        }
      ]
    },
    {
      "cell_type": "code",
      "metadata": {
        "id": "z6Cj-qzOCoGN",
        "colab_type": "code",
        "colab": {
          "base_uri": "https://localhost:8080/",
          "height": 284
        },
        "outputId": "6effa190-3cb4-4f8e-edba-5bfe7b7ab130"
      },
      "source": [
        "## Summary statistics of numeric fields\n",
        "raw_data.describe()"
      ],
      "execution_count": 65,
      "outputs": [
        {
          "output_type": "execute_result",
          "data": {
            "text/html": [
              "<div>\n",
              "<style scoped>\n",
              "    .dataframe tbody tr th:only-of-type {\n",
              "        vertical-align: middle;\n",
              "    }\n",
              "\n",
              "    .dataframe tbody tr th {\n",
              "        vertical-align: top;\n",
              "    }\n",
              "\n",
              "    .dataframe thead th {\n",
              "        text-align: right;\n",
              "    }\n",
              "</style>\n",
              "<table border=\"1\" class=\"dataframe\">\n",
              "  <thead>\n",
              "    <tr style=\"text-align: right;\">\n",
              "      <th></th>\n",
              "      <th>Recitified_Score_2</th>\n",
              "      <th>DM_Score</th>\n",
              "      <th>Neutral_Non_Neutral</th>\n",
              "    </tr>\n",
              "  </thead>\n",
              "  <tbody>\n",
              "    <tr>\n",
              "      <th>count</th>\n",
              "      <td>7491.000000</td>\n",
              "      <td>7491.000000</td>\n",
              "      <td>7491.000000</td>\n",
              "    </tr>\n",
              "    <tr>\n",
              "      <th>mean</th>\n",
              "      <td>2.887999</td>\n",
              "      <td>2.920972</td>\n",
              "      <td>1.252570</td>\n",
              "    </tr>\n",
              "    <tr>\n",
              "      <th>std</th>\n",
              "      <td>1.094411</td>\n",
              "      <td>1.019386</td>\n",
              "      <td>0.434515</td>\n",
              "    </tr>\n",
              "    <tr>\n",
              "      <th>min</th>\n",
              "      <td>0.000000</td>\n",
              "      <td>1.000000</td>\n",
              "      <td>1.000000</td>\n",
              "    </tr>\n",
              "    <tr>\n",
              "      <th>25%</th>\n",
              "      <td>2.000000</td>\n",
              "      <td>2.000000</td>\n",
              "      <td>1.000000</td>\n",
              "    </tr>\n",
              "    <tr>\n",
              "      <th>50%</th>\n",
              "      <td>3.000000</td>\n",
              "      <td>3.000000</td>\n",
              "      <td>1.000000</td>\n",
              "    </tr>\n",
              "    <tr>\n",
              "      <th>75%</th>\n",
              "      <td>4.000000</td>\n",
              "      <td>4.000000</td>\n",
              "      <td>2.000000</td>\n",
              "    </tr>\n",
              "    <tr>\n",
              "      <th>max</th>\n",
              "      <td>4.000000</td>\n",
              "      <td>4.000000</td>\n",
              "      <td>2.000000</td>\n",
              "    </tr>\n",
              "  </tbody>\n",
              "</table>\n",
              "</div>"
            ],
            "text/plain": [
              "       Recitified_Score_2     DM_Score  Neutral_Non_Neutral\n",
              "count         7491.000000  7491.000000          7491.000000\n",
              "mean             2.887999     2.920972             1.252570\n",
              "std              1.094411     1.019386             0.434515\n",
              "min              0.000000     1.000000             1.000000\n",
              "25%              2.000000     2.000000             1.000000\n",
              "50%              3.000000     3.000000             1.000000\n",
              "75%              4.000000     4.000000             2.000000\n",
              "max              4.000000     4.000000             2.000000"
            ]
          },
          "metadata": {
            "tags": []
          },
          "execution_count": 65
        }
      ]
    },
    {
      "cell_type": "markdown",
      "metadata": {
        "id": "LGgyWFD1CoGT",
        "colab_type": "text"
      },
      "source": [
        "Looking at the quintiles we can say that these columns hold discrete values. (As has been instructed, Rectified_Score_2 can be ignored from further analysis)"
      ]
    },
    {
      "cell_type": "code",
      "metadata": {
        "id": "1boHvIoQCoGW",
        "colab_type": "code",
        "colab": {
          "base_uri": "https://localhost:8080/",
          "height": 34
        },
        "outputId": "d7387416-dcd7-4610-df65-56672704cc21"
      },
      "source": [
        "total_files_used = raw_data['Filename'].nunique()\n",
        "if total_files_used == raw_data.shape[0]:\n",
        "    print(\"Each record is captured from a unique file.\")\n",
        "else:\n",
        "    print(f\"Data is extracted from {total_files_used} files in this dataset.\")"
      ],
      "execution_count": 66,
      "outputs": [
        {
          "output_type": "stream",
          "text": [
            "Data is extracted from 38 files in this dataset.\n"
          ],
          "name": "stdout"
        }
      ]
    },
    {
      "cell_type": "code",
      "metadata": {
        "id": "LXrp5TMzCoGa",
        "colab_type": "code",
        "colab": {
          "base_uri": "https://localhost:8080/",
          "height": 101
        },
        "outputId": "58de49f3-c480-48b0-bfbc-2ca0183ab59d"
      },
      "source": [
        "# DM_Score:4 classes(1-negative,2-neutral,3-positive,4-extreme positive)\n",
        "# creating a new column\n",
        "conditions = [(raw_data['DM_Score'] == 1),\n",
        "             (raw_data['DM_Score'] == 2),\n",
        "             (raw_data['DM_Score'] == 3),\n",
        "             (raw_data['DM_Score'] == 4),]\n",
        "values = [\"negative\", \"neutral\", \"positive\", \"extreme positive\"]\n",
        "raw_data[\"Sentiment\"] = np.select(conditions, values)\n",
        "raw_data[\"Sentiment\"].value_counts()"
      ],
      "execution_count": 67,
      "outputs": [
        {
          "output_type": "execute_result",
          "data": {
            "text/plain": [
              "extreme positive    2846\n",
              "positive            1980\n",
              "neutral             1892\n",
              "negative             773\n",
              "Name: Sentiment, dtype: int64"
            ]
          },
          "metadata": {
            "tags": []
          },
          "execution_count": 67
        }
      ]
    },
    {
      "cell_type": "code",
      "metadata": {
        "id": "zYWqkMlHCoGe",
        "colab_type": "code",
        "colab": {
          "base_uri": "https://localhost:8080/",
          "height": 101
        },
        "outputId": "1cf59317-01ef-45d0-b99e-bc4eb6386dfd"
      },
      "source": [
        "raw_data[\"Sentiment\"].value_counts(normalize=True)"
      ],
      "execution_count": 68,
      "outputs": [
        {
          "output_type": "execute_result",
          "data": {
            "text/plain": [
              "extreme positive    0.379923\n",
              "positive            0.264317\n",
              "neutral             0.252570\n",
              "negative            0.103190\n",
              "Name: Sentiment, dtype: float64"
            ]
          },
          "metadata": {
            "tags": []
          },
          "execution_count": 68
        }
      ]
    },
    {
      "cell_type": "code",
      "metadata": {
        "id": "DI3KS-I4CoGk",
        "colab_type": "code",
        "colab": {
          "base_uri": "https://localhost:8080/",
          "height": 404
        },
        "outputId": "3e62bfd1-8364-4042-b7f5-dfb989715898"
      },
      "source": [
        "# plot sentiment distribution\n",
        "plt.figure(figsize=(10,6))\n",
        "sns.countplot(x = \"Sentiment\", data = raw_data,\n",
        "              \n",
        "             order=raw_data['Sentiment'].value_counts().index);\n",
        "plt.title(\"Sentiment Distribution\")\n",
        "plt.xlabel(\"Sentiment\")\n",
        "plt.ylabel(\"\")\n",
        "plt.show()"
      ],
      "execution_count": 69,
      "outputs": [
        {
          "output_type": "display_data",
          "data": {
            "image/png": "[encoded data removed]",
            "text/plain": [
              "<Figure size 720x432 with 1 Axes>"
            ]
          },
          "metadata": {
            "tags": [],
            "needs_background": "light"
          }
        }
      ]
    },
    {
      "cell_type": "markdown",
      "metadata": {
        "id": "3WuLCgcBCoGo",
        "colab_type": "text"
      },
      "source": [
        "This plot depicts sentiment distribution. We can see that more than 50% of observations comprise of positive sentiments (including extreme positives). And only 10% of the observations are of negative sentiment. As we can see, data is imbalanced."
      ]
    },
    {
      "cell_type": "code",
      "metadata": {
        "id": "N6LWTRyDCoGo",
        "colab_type": "code",
        "colab": {
          "base_uri": "https://localhost:8080/",
          "height": 513
        },
        "outputId": "127822eb-b9c0-4ebb-d8fb-8cb574dfd117"
      },
      "source": [
        "# plot entitites\n",
        "plt.figure(figsize=(12,8))\n",
        "entities = raw_data['Entity_name'].value_counts()\n",
        "sns.barplot(x = entities.values, y = entities.index)\n",
        "plt.title(\"Entities of Review\")\n",
        "plt.xlabel(\"Entity Name\")\n",
        "plt.ylabel(\"\")\n",
        "plt.show()"
      ],
      "execution_count": 70,
      "outputs": [
        {
          "output_type": "display_data",
          "data": {
            "image/png": "[encoded data removed]",
            "text/plain": [
              "<Figure size 864x576 with 1 Axes>"
            ]
          },
          "metadata": {
            "tags": [],
            "needs_background": "light"
          }
        }
      ]
    },
    {
      "cell_type": "markdown",
      "metadata": {
        "id": "Sk0URXVgCoGs",
        "colab_type": "text"
      },
      "source": [
        "This plot shows that consumers care more about experience, location, ambience more than anything else."
      ]
    },
    {
      "cell_type": "code",
      "metadata": {
        "id": "IPCLrYL1CoGs",
        "colab_type": "code",
        "colab": {}
      },
      "source": [
        "# function for basic cleansing\n",
        "def clean_text(text):    \n",
        "    \"\"\"Peforms basic cleansing steps on text feature.     \n",
        "    # Arguments         \n",
        "        text: list, sample text   \n",
        "        Returns: clean text\n",
        "    \"\"\"\n",
        "    text = re.sub('\\s+', ' ', str(text))     # remove new line characters       \n",
        "    text = re.sub(\"\\'\", \"\", str(text)) # remove single characters \n",
        "    text = re.sub('[^a-zA-Z #+_]', '', text)          # removes special characters\n",
        "    text = text.lower()          # convert to lowercase to maintain consistency\n",
        "    text = ' '.join(word for word in text.split() if word not in stop_words) # remove stop words   \n",
        "    return text  "
      ],
      "execution_count": 71,
      "outputs": []
    },
    {
      "cell_type": "code",
      "metadata": {
        "id": "u-jJ2u6JCoGv",
        "colab_type": "code",
        "colab": {}
      },
      "source": [
        "clean_data = raw_data.copy()\n",
        "clean_data['modified_text'] = clean_data[\"Original Text\"].apply(clean_text)"
      ],
      "execution_count": 72,
      "outputs": []
    },
    {
      "cell_type": "code",
      "metadata": {
        "id": "_di_DJIoCoGx",
        "colab_type": "code",
        "colab": {
          "base_uri": "https://localhost:8080/",
          "height": 50
        },
        "outputId": "d330c4b3-a123-4035-f16c-268f0533053f"
      },
      "source": [
        "max_modified_text_len = int(clean_data[\"modified_text\"].str.encode(encoding='utf-8').str.len().max())\n",
        "min_modified_text_len = int(clean_data[\"modified_text\"].str.encode(encoding='utf-8').str.len().min())\n",
        "print(max_modified_text_len)\n",
        "print(min_modified_text_len)"
      ],
      "execution_count": 73,
      "outputs": [
        {
          "output_type": "stream",
          "text": [
            "481\n",
            "0\n"
          ],
          "name": "stdout"
        }
      ]
    },
    {
      "cell_type": "markdown",
      "metadata": {
        "id": "B1QY3wSfCoG0",
        "colab_type": "text"
      },
      "source": [
        "Minimum length of cleansed text is zero for some of the records. They may not have any meaningful information. We can explore what texts have length less than or equal to 3 after cleansing."
      ]
    },
    {
      "cell_type": "code",
      "metadata": {
        "id": "9-9yLiBUCoG1",
        "colab_type": "code",
        "colab": {
          "base_uri": "https://localhost:8080/",
          "height": 254
        },
        "outputId": "6423b193-d2eb-4927-825f-7947be031c9b"
      },
      "source": [
        "filter_len = clean_data[\"modified_text\"].str.encode(encoding='utf-8').str.len()\n",
        "clean_data[[\"modified_text\",\"Original Text\"]][filter_len<=3]"
      ],
      "execution_count": 74,
      "outputs": [
        {
          "output_type": "execute_result",
          "data": {
            "text/html": [
              "<div>\n",
              "<style scoped>\n",
              "    .dataframe tbody tr th:only-of-type {\n",
              "        vertical-align: middle;\n",
              "    }\n",
              "\n",
              "    .dataframe tbody tr th {\n",
              "        vertical-align: top;\n",
              "    }\n",
              "\n",
              "    .dataframe thead th {\n",
              "        text-align: right;\n",
              "    }\n",
              "</style>\n",
              "<table border=\"1\" class=\"dataframe\">\n",
              "  <thead>\n",
              "    <tr style=\"text-align: right;\">\n",
              "      <th></th>\n",
              "      <th>modified_text</th>\n",
              "      <th>Original Text</th>\n",
              "    </tr>\n",
              "  </thead>\n",
              "  <tbody>\n",
              "    <tr>\n",
              "      <th>36</th>\n",
              "      <td>bad</td>\n",
              "      <td>It’s not that bad</td>\n",
              "    </tr>\n",
              "    <tr>\n",
              "      <th>213</th>\n",
              "      <td></td>\n",
              "      <td>I am here now.</td>\n",
              "    </tr>\n",
              "    <tr>\n",
              "      <th>2013</th>\n",
              "      <td>say</td>\n",
              "      <td>All they can do is say no.</td>\n",
              "    </tr>\n",
              "    <tr>\n",
              "      <th>2825</th>\n",
              "      <td>bad</td>\n",
              "      <td>So all in all not bad</td>\n",
              "    </tr>\n",
              "    <tr>\n",
              "      <th>3340</th>\n",
              "      <td>bad</td>\n",
              "      <td>Hi it’s not that bad.</td>\n",
              "    </tr>\n",
              "    <tr>\n",
              "      <th>6607</th>\n",
              "      <td>spa</td>\n",
              "      <td>And it has spa</td>\n",
              "    </tr>\n",
              "    <tr>\n",
              "      <th>6642</th>\n",
              "      <td>bed</td>\n",
              "      <td>I have a 1 bed</td>\n",
              "    </tr>\n",
              "  </tbody>\n",
              "</table>\n",
              "</div>"
            ],
            "text/plain": [
              "     modified_text               Original Text\n",
              "36             bad           It’s not that bad\n",
              "213                             I am here now.\n",
              "2013           say  All they can do is say no.\n",
              "2825           bad       So all in all not bad\n",
              "3340           bad       Hi it’s not that bad.\n",
              "6607           spa              And it has spa\n",
              "6642           bed              I have a 1 bed"
            ]
          },
          "metadata": {
            "tags": []
          },
          "execution_count": 74
        }
      ]
    },
    {
      "cell_type": "code",
      "metadata": {
        "id": "ZcnEWwtCCoG4",
        "colab_type": "code",
        "colab": {}
      },
      "source": [
        "# length distribution\n",
        "def plot_length_distribution(text):     \n",
        "    \"\"\"Plots the sample length distribution.     \n",
        "    # Arguments         \n",
        "        text: list, sample text   \n",
        "        Returns: plot of length distribution\n",
        "    \"\"\"\n",
        "    plt.figure(figsize=(12,6))\n",
        "    plt.hist([len(s) for s in text], 30)\n",
        "    plt.xlabel('Length of a text record')     \n",
        "    plt.ylabel('Number of Records')     \n",
        "    plt.title('Text length distribution')    \n",
        "    plt.show()"
      ],
      "execution_count": 75,
      "outputs": []
    },
    {
      "cell_type": "code",
      "metadata": {
        "id": "HlUayVwiCoG_",
        "colab_type": "code",
        "colab": {
          "base_uri": "https://localhost:8080/",
          "height": 404
        },
        "outputId": "693cd5d0-e8a1-4d05-9af1-42f5f24e65f7"
      },
      "source": [
        "plot_length_distribution(clean_data[\"modified_text\"])"
      ],
      "execution_count": 76,
      "outputs": [
        {
          "output_type": "display_data",
          "data": {
            "image/png": "[encoded data removed]",
            "text/plain": [
              "<Figure size 864x432 with 1 Axes>"
            ]
          },
          "metadata": {
            "tags": [],
            "needs_background": "light"
          }
        }
      ]
    },
    {
      "cell_type": "markdown",
      "metadata": {
        "id": "xU4raMMjCoHG",
        "colab_type": "text"
      },
      "source": [
        "There are some records/texts with length more than 300. Let us filter to see how many records have more than 250 length"
      ]
    },
    {
      "cell_type": "code",
      "metadata": {
        "id": "egsoEs_wCoHG",
        "colab_type": "code",
        "colab": {
          "base_uri": "https://localhost:8080/",
          "height": 50
        },
        "outputId": "92edcd29-b668-486d-bd92-b1885a3ace25"
      },
      "source": [
        "filter_len = clean_data[\"modified_text\"].str.encode(encoding='utf-8').str.len()\n",
        "clean_data[[\"modified_text\"]][filter_len>=250].count()"
      ],
      "execution_count": 77,
      "outputs": [
        {
          "output_type": "execute_result",
          "data": {
            "text/plain": [
              "modified_text    49\n",
              "dtype: int64"
            ]
          },
          "metadata": {
            "tags": []
          },
          "execution_count": 77
        }
      ]
    },
    {
      "cell_type": "code",
      "metadata": {
        "id": "dFtiRrrkCoHK",
        "colab_type": "code",
        "colab": {
          "base_uri": "https://localhost:8080/",
          "height": 34
        },
        "outputId": "35249385-edf9-463e-b0e0-3c49ba381db3"
      },
      "source": [
        "clean_data[\"Relevant_Text\"][filter_len>=250]\n",
        "clean_data[\"Relevant_Text\"][filter_len>=250].count()"
      ],
      "execution_count": 78,
      "outputs": [
        {
          "output_type": "execute_result",
          "data": {
            "text/plain": [
              "49"
            ]
          },
          "metadata": {
            "tags": []
          },
          "execution_count": 78
        }
      ]
    },
    {
      "cell_type": "code",
      "metadata": {
        "id": "au3v6nY2CoHO",
        "colab_type": "code",
        "colab": {
          "base_uri": "https://localhost:8080/",
          "height": 404
        },
        "outputId": "3a2d9478-9f13-4a9d-fa9e-b0644a8a8f93"
      },
      "source": [
        "# plotting relevant text without any cleansing\n",
        "plot_length_distribution(clean_data[\"Relevant_Text\"])"
      ],
      "execution_count": 79,
      "outputs": [
        {
          "output_type": "display_data",
          "data": {
            "image/png": "[encoded data removed]",
            "text/plain": [
              "<Figure size 864x432 with 1 Axes>"
            ]
          },
          "metadata": {
            "tags": [],
            "needs_background": "light"
          }
        }
      ]
    },
    {
      "cell_type": "markdown",
      "metadata": {
        "id": "QXwsaBIVCoHR",
        "colab_type": "text"
      },
      "source": [
        "Relevant text seems to be normalized with not so many extreme values."
      ]
    },
    {
      "cell_type": "code",
      "metadata": {
        "id": "IHzBCtdJCoHS",
        "colab_type": "code",
        "colab": {}
      },
      "source": [
        "clean_data['clean_relevant_text'] = clean_data[\"Relevant_Text\"].apply(clean_text)"
      ],
      "execution_count": 80,
      "outputs": []
    },
    {
      "cell_type": "code",
      "metadata": {
        "id": "haGCGxuPCoHV",
        "colab_type": "code",
        "colab": {
          "base_uri": "https://localhost:8080/",
          "height": 404
        },
        "outputId": "152a5d97-3045-462c-fe43-81e271394054"
      },
      "source": [
        "plot_length_distribution(clean_data[\"clean_relevant_text\"])"
      ],
      "execution_count": 81,
      "outputs": [
        {
          "output_type": "display_data",
          "data": {
            "image/png": "[encoded data removed]",
            "text/plain": [
              "<Figure size 864x432 with 1 Axes>"
            ]
          },
          "metadata": {
            "tags": [],
            "needs_background": "light"
          }
        }
      ]
    },
    {
      "cell_type": "code",
      "metadata": {
        "id": "HFPwjxLbCoHX",
        "colab_type": "code",
        "colab": {
          "base_uri": "https://localhost:8080/",
          "height": 343
        },
        "outputId": "6d11e76e-be74-4238-f3f3-0e12e2c1671d"
      },
      "source": [
        "clean_data[[\"clean_relevant_text\",\"Relevant_Text\", \"DM_Score\"]].head(10)"
      ],
      "execution_count": 82,
      "outputs": [
        {
          "output_type": "execute_result",
          "data": {
            "text/html": [
              "<div>\n",
              "<style scoped>\n",
              "    .dataframe tbody tr th:only-of-type {\n",
              "        vertical-align: middle;\n",
              "    }\n",
              "\n",
              "    .dataframe tbody tr th {\n",
              "        vertical-align: top;\n",
              "    }\n",
              "\n",
              "    .dataframe thead th {\n",
              "        text-align: right;\n",
              "    }\n",
              "</style>\n",
              "<table border=\"1\" class=\"dataframe\">\n",
              "  <thead>\n",
              "    <tr style=\"text-align: right;\">\n",
              "      <th></th>\n",
              "      <th>clean_relevant_text</th>\n",
              "      <th>Relevant_Text</th>\n",
              "      <th>DM_Score</th>\n",
              "    </tr>\n",
              "  </thead>\n",
              "  <tbody>\n",
              "    <tr>\n",
              "      <th>0</th>\n",
              "      <td>sign long term lease</td>\n",
              "      <td>sign a long term lease</td>\n",
              "      <td>4</td>\n",
              "    </tr>\n",
              "    <tr>\n",
              "      <th>1</th>\n",
              "      <td>office people</td>\n",
              "      <td>all the office people</td>\n",
              "      <td>2</td>\n",
              "    </tr>\n",
              "    <tr>\n",
              "      <th>2</th>\n",
              "      <td>im b floor plan</td>\n",
              "      <td>I’m in the B2 floor plan</td>\n",
              "      <td>2</td>\n",
              "    </tr>\n",
              "    <tr>\n",
              "      <th>3</th>\n",
              "      <td>love living community</td>\n",
              "      <td>I love living in this community</td>\n",
              "      <td>4</td>\n",
              "    </tr>\n",
              "    <tr>\n",
              "      <th>4</th>\n",
              "      <td>would say comparable gyms</td>\n",
              "      <td>I would say they are comparable to gyms</td>\n",
              "      <td>3</td>\n",
              "    </tr>\n",
              "    <tr>\n",
              "      <th>5</th>\n",
              "      <td>friends didnt like</td>\n",
              "      <td>My friends didn’t like that</td>\n",
              "      <td>1</td>\n",
              "    </tr>\n",
              "    <tr>\n",
              "      <th>6</th>\n",
              "      <td>really good monitoring pool</td>\n",
              "      <td>They are really good about monitoring the pool</td>\n",
              "      <td>4</td>\n",
              "    </tr>\n",
              "    <tr>\n",
              "      <th>7</th>\n",
              "      <td>cant beat location either</td>\n",
              "      <td>Can’t beat the location either</td>\n",
              "      <td>4</td>\n",
              "    </tr>\n",
              "    <tr>\n",
              "      <th>8</th>\n",
              "      <td>absolutely love living</td>\n",
              "      <td>I absolutely love living at 1140</td>\n",
              "      <td>4</td>\n",
              "    </tr>\n",
              "    <tr>\n",
              "      <th>9</th>\n",
              "      <td>love</td>\n",
              "      <td>I love it</td>\n",
              "      <td>4</td>\n",
              "    </tr>\n",
              "  </tbody>\n",
              "</table>\n",
              "</div>"
            ],
            "text/plain": [
              "           clean_relevant_text  ... DM_Score\n",
              "0         sign long term lease  ...        4\n",
              "1                office people  ...        2\n",
              "2              im b floor plan  ...        2\n",
              "3        love living community  ...        4\n",
              "4    would say comparable gyms  ...        3\n",
              "5           friends didnt like  ...        1\n",
              "6  really good monitoring pool  ...        4\n",
              "7    cant beat location either  ...        4\n",
              "8       absolutely love living  ...        4\n",
              "9                         love  ...        4\n",
              "\n",
              "[10 rows x 3 columns]"
            ]
          },
          "metadata": {
            "tags": []
          },
          "execution_count": 82
        }
      ]
    },
    {
      "cell_type": "code",
      "metadata": {
        "id": "SZm87JXKCoHa",
        "colab_type": "code",
        "colab": {
          "base_uri": "https://localhost:8080/",
          "height": 34
        },
        "outputId": "115f5467-cdae-4f0b-b4eb-76fd3e24804e"
      },
      "source": [
        "clean_data[\"clean_relevant_text\"][filter_len<=2].count()"
      ],
      "execution_count": 83,
      "outputs": [
        {
          "output_type": "execute_result",
          "data": {
            "text/plain": [
              "1"
            ]
          },
          "metadata": {
            "tags": []
          },
          "execution_count": 83
        }
      ]
    },
    {
      "cell_type": "code",
      "metadata": {
        "id": "1TPlIw6yCoHc",
        "colab_type": "code",
        "colab": {}
      },
      "source": [
        "# drop rows with nulls\n",
        "clean_data.drop(clean_data[clean_data[\"clean_relevant_text\"].map(len)<=2].index , inplace = True)\n",
        "#raw_data.drop(raw_data[raw_data[\"clean_relevant_text\"].map(len)<=2].index , inplace = True)"
      ],
      "execution_count": 84,
      "outputs": []
    },
    {
      "cell_type": "code",
      "metadata": {
        "id": "-Mi6XJHyCoHf",
        "colab_type": "code",
        "colab": {
          "base_uri": "https://localhost:8080/",
          "height": 34
        },
        "outputId": "c95cd823-8c68-4291-9d9b-0b145f8e7da8"
      },
      "source": [
        "clean_data[\"clean_relevant_text\"][filter_len<=2].count()"
      ],
      "execution_count": 85,
      "outputs": [
        {
          "output_type": "execute_result",
          "data": {
            "text/plain": [
              "0"
            ]
          },
          "metadata": {
            "tags": []
          },
          "execution_count": 85
        }
      ]
    },
    {
      "cell_type": "markdown",
      "metadata": {
        "id": "569-YHNRCoHh",
        "colab_type": "text"
      },
      "source": [
        "### 3. Model Building"
      ]
    },
    {
      "cell_type": "markdown",
      "metadata": {
        "id": "l6M0XeLbCoHj",
        "colab_type": "text"
      },
      "source": [
        "#### As we have seen in EDA, entities are also giving us some information about sentiments. This feature may be clubbed with text feature to enhance model performance. Two approaches could be tried:\n",
        "1. Use text feature 'relevant text' without entity and check model performance\n",
        "2. Use text feature 'relevant text' along with entity and check model performance"
      ]
    },
    {
      "cell_type": "code",
      "metadata": {
        "colab_type": "code",
        "id": "8cuzFoXg-GQp",
        "colab": {}
      },
      "source": [
        "\n",
        "clean_data['clean_relevant_text'] = clean_data['clean_relevant_text'] +\" \" + clean_data [\"Entity_name\"]"
      ],
      "execution_count": 86,
      "outputs": []
    },
    {
      "cell_type": "code",
      "metadata": {
        "colab_type": "code",
        "id": "ZoWjxodj9zV3",
        "colab": {
          "base_uri": "https://localhost:8080/",
          "height": 195
        },
        "outputId": "f216039e-6db2-4880-f06f-81e344b8ad5d"
      },
      "source": [
        "dataset = clean_data[['clean_relevant_text', 'DM_Score']]\n",
        "dataset.head()"
      ],
      "execution_count": 87,
      "outputs": [
        {
          "output_type": "execute_result",
          "data": {
            "text/html": [
              "<div>\n",
              "<style scoped>\n",
              "    .dataframe tbody tr th:only-of-type {\n",
              "        vertical-align: middle;\n",
              "    }\n",
              "\n",
              "    .dataframe tbody tr th {\n",
              "        vertical-align: top;\n",
              "    }\n",
              "\n",
              "    .dataframe thead th {\n",
              "        text-align: right;\n",
              "    }\n",
              "</style>\n",
              "<table border=\"1\" class=\"dataframe\">\n",
              "  <thead>\n",
              "    <tr style=\"text-align: right;\">\n",
              "      <th></th>\n",
              "      <th>clean_relevant_text</th>\n",
              "      <th>DM_Score</th>\n",
              "    </tr>\n",
              "  </thead>\n",
              "  <tbody>\n",
              "    <tr>\n",
              "      <th>0</th>\n",
              "      <td>sign long term lease renewed</td>\n",
              "      <td>4</td>\n",
              "    </tr>\n",
              "    <tr>\n",
              "      <th>1</th>\n",
              "      <td>office people management</td>\n",
              "      <td>2</td>\n",
              "    </tr>\n",
              "    <tr>\n",
              "      <th>2</th>\n",
              "      <td>im b floor plan unit_features</td>\n",
              "      <td>2</td>\n",
              "    </tr>\n",
              "    <tr>\n",
              "      <th>3</th>\n",
              "      <td>love living community community</td>\n",
              "      <td>4</td>\n",
              "    </tr>\n",
              "    <tr>\n",
              "      <th>4</th>\n",
              "      <td>would say comparable gyms fitness_center</td>\n",
              "      <td>3</td>\n",
              "    </tr>\n",
              "  </tbody>\n",
              "</table>\n",
              "</div>"
            ],
            "text/plain": [
              "                        clean_relevant_text  DM_Score\n",
              "0              sign long term lease renewed         4\n",
              "1                  office people management         2\n",
              "2             im b floor plan unit_features         2\n",
              "3           love living community community         4\n",
              "4  would say comparable gyms fitness_center         3"
            ]
          },
          "metadata": {
            "tags": []
          },
          "execution_count": 87
        }
      ]
    },
    {
      "cell_type": "code",
      "metadata": {
        "colab_type": "code",
        "id": "iEL8PAy3_hs5",
        "colab": {}
      },
      "source": [
        "# The maximum number of words to be used. (most frequent)\n",
        "MAX_NB_WORDS = 1000\n",
        "# Max number of words in each complaint.\n",
        "MAX_SEQUENCE_LENGTH = 30\n",
        "# This is fixed.\n",
        "EMBEDDING_DIM = 100\n"
      ],
      "execution_count": 88,
      "outputs": []
    },
    {
      "cell_type": "code",
      "metadata": {
        "id": "ZoBbw9fQPbSM",
        "colab_type": "code",
        "colab": {
          "base_uri": "https://localhost:8080/",
          "height": 50
        },
        "outputId": "675f9b7d-38ad-4f83-8772-f12106336eee"
      },
      "source": [
        "## Tokenizing and checking the shapes of tensor(for testing purposes)\n",
        "\n",
        "X = tokenizer.texts_to_sequences(dataset['clean_relevant_text'].values)\n",
        "X = pad_sequences(X, maxlen=MAX_SEQUENCE_LENGTH)\n",
        "print('Shape of data tensor:', X.shape)\n",
        "\n",
        "\n",
        "\n",
        "Y = pd.get_dummies(dataset['DM_Score']).values\n",
        "print('Shape of DM_Score tensor:', Y.shape)\n"
      ],
      "execution_count": 89,
      "outputs": [
        {
          "output_type": "stream",
          "text": [
            "Shape of data tensor: (7490, 30)\n",
            "Shape of DM_Score tensor: (7490, 4)\n"
          ],
          "name": "stdout"
        }
      ]
    },
    {
      "cell_type": "code",
      "metadata": {
        "id": "-RnzKBG8P2tJ",
        "colab_type": "code",
        "colab": {
          "base_uri": "https://localhost:8080/",
          "height": 67
        },
        "outputId": "d5e7b816-087a-4db0-ed00-f2d9a4436c82"
      },
      "source": [
        "## Splitting data set into train and test set\n",
        "\n",
        "X_train, X_test, y_train, y_test = train_test_split(X, Y, stratify=dataset[['DM_Score']], test_size=0.30, random_state=42)   \n",
        "\n",
        "## Checking the shape of the train and test set(For testing purposes) \n",
        "\n",
        "print(X_train.shape,y_train.shape)\n",
        "print(X_test.shape,y_test.shape)\n",
        "\n",
        "print(\"input length is  :\", X.shape[1])\n"
      ],
      "execution_count": 90,
      "outputs": [
        {
          "output_type": "stream",
          "text": [
            "(5243, 30) (5243, 4)\n",
            "(2247, 30) (2247, 4)\n",
            "input length is  : 30\n"
          ],
          "name": "stdout"
        }
      ]
    },
    {
      "cell_type": "code",
      "metadata": {
        "id": "k27xx4PnQRKS",
        "colab_type": "code",
        "colab": {
          "base_uri": "https://localhost:8080/",
          "height": 302
        },
        "outputId": "42fa3ab8-26c7-44c0-e882-fc40a5f939d2"
      },
      "source": [
        "## Generating model\n",
        "model = Sequential()\n",
        "model.add(Embedding(MAX_NB_WORDS, EMBEDDING_DIM, input_length=X.shape[1]))\n",
        "model.add(SpatialDropout1D(0.5))\n",
        "model.add(LSTM(100, dropout=0.2, recurrent_dropout=0.2))\n",
        "model.add(Dense(4, activation='softmax'))\n",
        "model.compile(loss='categorical_crossentropy', optimizer='adam', metrics=['accuracy'])\n",
        "print(model.summary())\n"
      ],
      "execution_count": 91,
      "outputs": [
        {
          "output_type": "stream",
          "text": [
            "Model: \"sequential_1\"\n",
            "_________________________________________________________________\n",
            "Layer (type)                 Output Shape              Param #   \n",
            "=================================================================\n",
            "embedding_1 (Embedding)      (None, 30, 100)           100000    \n",
            "_________________________________________________________________\n",
            "spatial_dropout1d_1 (Spatial (None, 30, 100)           0         \n",
            "_________________________________________________________________\n",
            "lstm_1 (LSTM)                (None, 100)               80400     \n",
            "_________________________________________________________________\n",
            "dense_1 (Dense)              (None, 4)                 404       \n",
            "=================================================================\n",
            "Total params: 180,804\n",
            "Trainable params: 180,804\n",
            "Non-trainable params: 0\n",
            "_________________________________________________________________\n",
            "None\n"
          ],
          "name": "stdout"
        }
      ]
    },
    {
      "cell_type": "code",
      "metadata": {
        "id": "jrXTFL8kQaxE",
        "colab_type": "code",
        "colab": {
          "base_uri": "https://localhost:8080/",
          "height": 420
        },
        "outputId": "ea46e910-d8f5-4458-b644-959e60331dab"
      },
      "source": [
        "## Training model\n",
        "\n",
        "epochs = 10\n",
        "batch_size = 32\n",
        "\n",
        "#history = model.fit(X_train, y_train, epochs=epochs, batch_size=batch_size,validation_split=0.1,\\\n",
        " #                   callbacks=[EarlyStopping(monitor='val_loss', patience=3, min_delta=0.0001)]) \n",
        "\n",
        "history = model.fit(X_train, y_train, epochs=epochs, batch_size=batch_size,validation_split=0.1)\n",
        "\n",
        "accr = model.evaluate(X_test,y_test)\n",
        "print('Test set\\n  Loss: {:0.3f}\\n  Accuracy: {:0.3f}'.format(accr[0],accr[1]))"
      ],
      "execution_count": 92,
      "outputs": [
        {
          "output_type": "stream",
          "text": [
            "Epoch 1/10\n",
            "148/148 [==============================] - 10s 69ms/step - loss: 1.1782 - accuracy: 0.4627 - val_loss: 0.9533 - val_accuracy: 0.6133\n",
            "Epoch 2/10\n",
            "148/148 [==============================] - 10s 67ms/step - loss: 0.8804 - accuracy: 0.6439 - val_loss: 0.8222 - val_accuracy: 0.6743\n",
            "Epoch 3/10\n",
            "148/148 [==============================] - 10s 67ms/step - loss: 0.7505 - accuracy: 0.7009 - val_loss: 0.7924 - val_accuracy: 0.6876\n",
            "Epoch 4/10\n",
            "148/148 [==============================] - 10s 67ms/step - loss: 0.6881 - accuracy: 0.7315 - val_loss: 0.8137 - val_accuracy: 0.6743\n",
            "Epoch 5/10\n",
            "148/148 [==============================] - 10s 66ms/step - loss: 0.6430 - accuracy: 0.7558 - val_loss: 0.8289 - val_accuracy: 0.6705\n",
            "Epoch 6/10\n",
            "148/148 [==============================] - 10s 67ms/step - loss: 0.6123 - accuracy: 0.7611 - val_loss: 0.8218 - val_accuracy: 0.6686\n",
            "Epoch 7/10\n",
            "148/148 [==============================] - 10s 68ms/step - loss: 0.5897 - accuracy: 0.7747 - val_loss: 0.8662 - val_accuracy: 0.6610\n",
            "Epoch 8/10\n",
            "148/148 [==============================] - 10s 67ms/step - loss: 0.5683 - accuracy: 0.7853 - val_loss: 0.9075 - val_accuracy: 0.6629\n",
            "Epoch 9/10\n",
            "148/148 [==============================] - 10s 68ms/step - loss: 0.5590 - accuracy: 0.7895 - val_loss: 0.9066 - val_accuracy: 0.6762\n",
            "Epoch 10/10\n",
            "148/148 [==============================] - 10s 67ms/step - loss: 0.5402 - accuracy: 0.7929 - val_loss: 0.9239 - val_accuracy: 0.6629\n",
            "71/71 [==============================] - 1s 9ms/step - loss: 0.8666 - accuracy: 0.6858\n",
            "Test set\n",
            "  Loss: 0.867\n",
            "  Accuracy: 0.686\n"
          ],
          "name": "stdout"
        }
      ]
    },
    {
      "cell_type": "markdown",
      "metadata": {
        "id": "Fmylpm3ICoHs",
        "colab_type": "text"
      },
      "source": [
        "### 4. Model Evaluation"
      ]
    },
    {
      "cell_type": "code",
      "metadata": {
        "id": "YCVB5K0kHz3l",
        "colab_type": "code",
        "colab": {}
      },
      "source": [
        "### Evaluating model by predicting on test data\n",
        "y_pred = model.predict(X_test)\n",
        "y_actual = []\n",
        "y_pred_classes = []\n",
        "y_pred_prob = []\n",
        "Y_classes=dataset[\"DM_Score\"].unique().tolist()\n",
        "for row in range(len(y_pred)):\n",
        "    y_actual.append(Y_classes[np.argmax(y_test[row])])\n",
        "    y_pred_classes.append(Y_classes[np.argmax(y_pred[row])])\n",
        "    y_pred_prob.append(np.max(y_pred[row]))\n"
      ],
      "execution_count": 93,
      "outputs": []
    },
    {
      "cell_type": "markdown",
      "metadata": {
        "id": "Z_6Q0ytIkAih",
        "colab_type": "text"
      },
      "source": [
        "## 5. Classification Matrix"
      ]
    },
    {
      "cell_type": "code",
      "metadata": {
        "colab_type": "code",
        "id": "mqqjDR7giNoe",
        "colab": {
          "base_uri": "https://localhost:8080/",
          "height": 202
        },
        "outputId": "80a82a89-a316-4f19-a378-ae7ef76c8368"
      },
      "source": [
        "print(classification_report(y_actual, y_pred_classes, target_names=clean_data.Sentiment.unique()))"
      ],
      "execution_count": 94,
      "outputs": [
        {
          "output_type": "stream",
          "text": [
            "                  precision    recall  f1-score   support\n",
            "\n",
            "extreme positive       0.79      0.85      0.82       854\n",
            "         neutral       0.66      0.72      0.69       567\n",
            "        positive       0.58      0.53      0.55       594\n",
            "        negative       0.55      0.39      0.46       232\n",
            "\n",
            "        accuracy                           0.69      2247\n",
            "       macro avg       0.64      0.62      0.63      2247\n",
            "    weighted avg       0.68      0.69      0.68      2247\n",
            "\n"
          ],
          "name": "stdout"
        }
      ]
    },
    {
      "cell_type": "markdown",
      "metadata": {
        "id": "0T8CKdDYkRxK",
        "colab_type": "text"
      },
      "source": [
        "### 6. Confusion Matrix"
      ]
    },
    {
      "cell_type": "code",
      "metadata": {
        "colab_type": "code",
        "id": "4XmxK9B7iR5V",
        "colab": {
          "base_uri": "https://localhost:8080/",
          "height": 320
        },
        "outputId": "95d2874b-78e9-4e67-cdda-82d76be19442"
      },
      "source": [
        "\n",
        "def show_confusion_matrix(confusion_matrix):\n",
        "  hmap = sns.heatmap(confusion_matrix, annot=True, fmt=\"d\", cmap=\"Blues\")\n",
        "  hmap.yaxis.set_ticklabels(hmap.yaxis.get_ticklabels(), rotation=0, ha='right')\n",
        "  hmap.xaxis.set_ticklabels(hmap.xaxis.get_ticklabels(), rotation=30, ha='right')\n",
        "  plt.ylabel('True sentiment')\n",
        "  plt.xlabel('Predicted sentiment');\n",
        "cm = confusion_matrix(y_actual, y_pred_classes)\n",
        "df_cm = pd.DataFrame(cm, index=clean_data.Sentiment.unique(), columns=clean_data.Sentiment.unique())\n",
        "show_confusion_matrix(df_cm)"
      ],
      "execution_count": 95,
      "outputs": [
        {
          "output_type": "display_data",
          "data": {
            "image/png": "[encoded data removed]",
            "text/plain": [
              "<Figure size 432x288 with 2 Axes>"
            ]
          },
          "metadata": {
            "tags": [],
            "needs_background": "light"
          }
        }
      ]
    },
    {
      "cell_type": "markdown",
      "metadata": {
        "id": "xj2V-QfaCoH4",
        "colab_type": "text"
      },
      "source": [
        "### 7. Conclusion"
      ]
    },
    {
      "cell_type": "markdown",
      "metadata": {
        "id": "YvI4Lt9uCoH4",
        "colab_type": "text"
      },
      "source": [
        "With just few thousand records, we are able to get train and test accuracy of 79% , 68% respectively. LSTM deep learning model is fit using keras tokenizer here instead of bert. I also, tried using bert embedding instead of keras tokenizer but that gave very poor performance approx. 44% accuracy on training. This could further be fined tune with respect to relevant hyper parameters and improved."
      ]
    }
  ]
}